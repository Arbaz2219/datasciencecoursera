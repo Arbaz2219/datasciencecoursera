{
  "nbformat": 4,
  "nbformat_minor": 0,
  "metadata": {
    "colab": {
      "name": "Data_Sci_Assginment_1.ipynb",
      "provenance": [],
      "authorship_tag": "ABX9TyPkZ4Zux7C7UFTH6xFUuYlV",
      "include_colab_link": true
    },
    "kernelspec": {
      "name": "python3",
      "display_name": "Python 3"
    },
    "language_info": {
      "name": "python"
    }
  },
  "cells": [
    {
      "cell_type": "markdown",
      "metadata": {
        "id": "view-in-github",
        "colab_type": "text"
      },
      "source": [
        "<a href=\"https://colab.research.google.com/github/Arbaz2219/datasciencecoursera/blob/main/Data_Sci_Assginment_1.ipynb\" target=\"_parent\"><img src=\"https://colab.research.google.com/assets/colab-badge.svg\" alt=\"Open In Colab\"/></a>"
      ]
    },
    {
      "cell_type": "markdown",
      "source": [
        ""
      ],
      "metadata": {
        "id": "sBUgOcAtTO7T"
      }
    },
    {
      "cell_type": "code",
      "source": [
        "\"\"\"Write a Python program to print the following string in a specific format (see the\n",
        "output).\n",
        "\n",
        "Twinkle, twinkle, little star,\n",
        "How I wonder what you are!\n",
        "Up above the world so high,\n",
        "Like a diamond in the sky.\n",
        "\n",
        "Twinkle, twinkle, little star,\n",
        "How I wonder what you are\"\"\"\n",
        "\n",
        "print(\"Twinkle, twinkle, little star,\\n\\t How I wonder what you are!\\n\\t\\t Up above the world so high,\\n\\t\\t Like a diamond in the sky.\\n Twinkle, twinkle, title star,\\n\\t How I wonder what you are\");\n"
      ],
      "metadata": {
        "colab": {
          "base_uri": "https://localhost:8080/"
        },
        "id": "NI27_XpXTTGT",
        "outputId": "667d133c-dc98-44eb-89cb-9bd3230d5648"
      },
      "execution_count": 22,
      "outputs": [
        {
          "output_type": "stream",
          "name": "stdout",
          "text": [
            "Twinkle, twinkle, little star,\n",
            "\t How I wonder what you are!\n",
            "\t\t Up above the world so high,\n",
            "\t\t Like a diamond in the sky.\n",
            " Twinkle, twinkle, title star,\n",
            "\t How I wonder what you are\n"
          ]
        }
      ]
    },
    {
      "cell_type": "code",
      "source": [
        "\"\"\"# Q2\n",
        "#Write a Python program to print the following string in a specific format (see the\n",
        "#output).\"\"\"\n",
        "\n",
        "import sys\n",
        "\n",
        "print(\"Python version I'm using right now'>>'\", sys.version);"
      ],
      "metadata": {
        "colab": {
          "base_uri": "https://localhost:8080/"
        },
        "id": "LXvoOyLOTtG6",
        "outputId": "868862f4-b222-4c11-f93b-cf72adde3878"
      },
      "execution_count": 23,
      "outputs": [
        {
          "output_type": "stream",
          "name": "stdout",
          "text": [
            "Python version I'm using right now'>>' 3.7.12 (default, Sep 10 2021, 00:21:48) \n",
            "[GCC 7.5.0]\n"
          ]
        }
      ]
    },
    {
      "cell_type": "code",
      "source": [
        "\"\"\"# Q2\n",
        "#Write a Python program to print the following string in a specific format (see the\n",
        "#output).\"\"\"\n",
        "\n",
        "import sys\n",
        "\n",
        "print(\"Python version I'm using right now'>>'\", sys.version);"
      ],
      "metadata": {
        "colab": {
          "base_uri": "https://localhost:8080/"
        },
        "id": "3xWz8asMT4C1",
        "outputId": "60b7dd23-2fc6-4046-8e0b-a9d8b2dfec36"
      },
      "execution_count": 24,
      "outputs": [
        {
          "output_type": "stream",
          "name": "stdout",
          "text": [
            "Python version I'm using right now'>>' 3.7.12 (default, Sep 10 2021, 00:21:48) \n",
            "[GCC 7.5.0]\n"
          ]
        }
      ]
    },
    {
      "cell_type": "code",
      "source": [
        "\"\"\"# Q4\n",
        "#Write a Python program which accepts the radius of a circle from the user and compute\n",
        "#the area.\"\"\"\n",
        "\n",
        "pi = 3.14;\n",
        "r = int(input(\"Enter the Value of Radius: \"));\n",
        "print(\"The Value of 'PI' is... \", pi);\n",
        "print(\"\\nThe Value of 'Radius' is\", r);\n",
        "print(\"\\nFormula of 'Area Of Circle' is... <A = pi * r^2>\");\n",
        "a = pi * r**2;\n",
        "print(\"\\nThe Area Of Circle is: \", a);"
      ],
      "metadata": {
        "colab": {
          "base_uri": "https://localhost:8080/"
        },
        "id": "ZDOt3T35UHzJ",
        "outputId": "972a4f2f-2c9a-4547-dca1-2bd2f40336e6"
      },
      "execution_count": 25,
      "outputs": [
        {
          "output_type": "stream",
          "name": "stdout",
          "text": [
            "Enter the Value of Radius: 78\n",
            "The Value of 'PI' is...  3.14\n",
            "\n",
            "The Value of 'Radius' is 78\n",
            "\n",
            "Formula of 'Area Of Circle' is... <A = pi * r^2>\n",
            "\n",
            "The Area Of Circle is:  19103.760000000002\n"
          ]
        }
      ]
    },
    {
      "cell_type": "code",
      "source": [
        "\"\"\"# Q5\n",
        "#Write a Python program which accepts the user's first and last name and print them in\n",
        "#reverse order with a space between them.\"\"\"\n",
        "\n",
        "first_name = input(\"Enter First Name: \");\n",
        "last_name = input(\"\\nEnter Last Name: \");\n",
        "last_name_reversed = last_name[::-1];\n",
        "first_name_reversed = first_name[::-1];\n",
        "print(\"\\nName is in Simple Order: \",first_name +\" \"+ last_name);\n",
        "print(\"Name is in Reverse Order: \",last_name_reversed +\" \"+  first_name_reversed);"
      ],
      "metadata": {
        "colab": {
          "base_uri": "https://localhost:8080/"
        },
        "id": "-IEhGy60UUTT",
        "outputId": "373767e0-a224-4bb1-a08b-c2ab3d25939f"
      },
      "execution_count": 26,
      "outputs": [
        {
          "output_type": "stream",
          "name": "stdout",
          "text": [
            "Enter First Name: arbaz\n",
            "\n",
            "Enter Last Name: ahmed\n",
            "\n",
            "Name is in Simple Order:  arbaz ahmed\n",
            "Name is in Reverse Order:  demha zabra\n"
          ]
        }
      ]
    },
    {
      "cell_type": "code",
      "source": [
        "\"\"\"# Q6\n",
        "#Write a python program which takes two inputs from user and print them addition\"\"\"\n",
        "\n",
        "first_number = int(input(\"Enter 1st Number: \"));\n",
        "second_number = int(input(\"\\nEnter 2nd Number: \"));\n",
        "addition = first_number + second_number;\n",
        "print(\"\\nThe Sum of Your Given Two Numbers Are: \",addition);"
      ],
      "metadata": {
        "colab": {
          "base_uri": "https://localhost:8080/"
        },
        "id": "zY0xeOUaU09g",
        "outputId": "31696dd6-7dc1-4b7c-e41f-86a9094c54c0"
      },
      "execution_count": 27,
      "outputs": [
        {
          "output_type": "stream",
          "name": "stdout",
          "text": [
            "Enter 1st Number: 67\n",
            "\n",
            "Enter 2nd Number: 87\n",
            "\n",
            "The Sum of Your Given Two Numbers Are:  154\n"
          ]
        }
      ]
    },
    {
      "cell_type": "code",
      "source": [
        "\"\"\"# Q3\n",
        "#Write a Python program to display the current date and time.\"\"\"\n",
        "\n",
        "import time\n",
        "\n",
        "localtime = time.asctime(time.localtime(time.time()));\n",
        "print(localtime);"
      ],
      "metadata": {
        "colab": {
          "base_uri": "https://localhost:8080/"
        },
        "id": "8_DkuOh1Vf-P",
        "outputId": "0a796e63-b5d4-4366-d66a-785ea8a05e5a"
      },
      "execution_count": 28,
      "outputs": [
        {
          "output_type": "stream",
          "name": "stdout",
          "text": [
            "Sun Jan  2 15:10:17 2022\n"
          ]
        }
      ]
    },
    {
      "cell_type": "code",
      "source": [
        "\"\"\"# Q3\n",
        "#Write a Python program to display the current date and time.\"\"\"\n",
        "\n",
        "import time\n",
        "\n",
        "localtime = time.asctime(time.localtime(time.time()));\n",
        "print(localtime);"
      ],
      "metadata": {
        "colab": {
          "base_uri": "https://localhost:8080/"
        },
        "id": "iwh-aqGDVsxy",
        "outputId": "790eb3e6-8c5c-4377-d63c-5647925964c9"
      },
      "execution_count": 29,
      "outputs": [
        {
          "output_type": "stream",
          "name": "stdout",
          "text": [
            "Sun Jan  2 15:10:17 2022\n"
          ]
        }
      ]
    }
  ]
}